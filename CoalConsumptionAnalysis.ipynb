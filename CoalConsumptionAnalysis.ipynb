{
  "nbformat": 4,
  "nbformat_minor": 0,
  "metadata": {
    "colab": {
      "name": "CoalConsumptionAnalysis.ipynb",
      "provenance": [],
      "authorship_tag": "ABX9TyPzGpqZ/h8L9QEo8BAOTAZK",
      "include_colab_link": true
    },
    "kernelspec": {
      "name": "python3",
      "display_name": "Python 3"
    }
  },
  "cells": [
    {
      "cell_type": "markdown",
      "metadata": {
        "id": "view-in-github",
        "colab_type": "text"
      },
      "source": [
        "<a href=\"https://colab.research.google.com/github/bhadreshpsavani/TimeSerierAnalysisOnCoalConsumption/blob/main/CoalConsumptionAnalysis.ipynb\" target=\"_parent\"><img src=\"https://colab.research.google.com/assets/colab-badge.svg\" alt=\"Open In Colab\"/></a>"
      ]
    },
    {
      "cell_type": "markdown",
      "metadata": {
        "id": "zMPvCk3p8VGR"
      },
      "source": [
        "# Time Series Analysis of Britans Power Consumption:\r\n",
        "\r\n",
        "We are having dataset of power consumtion demand and the sources of energy **we want to forcast requirement of coal consumption**"
      ]
    },
    {
      "cell_type": "code",
      "metadata": {
        "colab": {
          "base_uri": "https://localhost:8080/"
        },
        "id": "8ONqBO5kIbmK",
        "outputId": "f9c57817-957f-4b06-8dfe-2f6abdb1b027"
      },
      "source": [
        "import pandas as pd\r\n",
        "import numpy as np\r\n",
        "from statsmodels.tsa.seasonal import seasonal_decompose\r\n",
        "import matplotlib.pyplot as plt\r\n",
        "from sklearn.model_selection import train_test_split\r\n",
        "from sklearn.linear_model import LinearRegression\r\n",
        "from sklearn.metrics import mean_squared_error\r\n",
        "from sklearn.ensemble import GradientBoostingRegressor"
      ],
      "execution_count": 19,
      "outputs": [
        {
          "output_type": "stream",
          "text": [
            "/usr/local/lib/python3.6/dist-packages/statsmodels/tools/_testing.py:19: FutureWarning: pandas.util.testing is deprecated. Use the functions in the public API at pandas.testing instead.\n",
            "  import pandas.util.testing as tm\n"
          ],
          "name": "stderr"
        }
      ]
    },
    {
      "cell_type": "code",
      "metadata": {
        "id": "rrxA5G65g8sB"
      },
      "source": [
        "df = pd.read_csv('https://query.data.world/s/pija6a4rfvhbwhsmxgs6waee6tqgkg', parse_dates=[1], index_col=1)"
      ],
      "execution_count": 41,
      "outputs": []
    },
    {
      "cell_type": "code",
      "metadata": {
        "colab": {
          "base_uri": "https://localhost:8080/",
          "height": 225
        },
        "id": "Agtl7v0vhNAA",
        "outputId": "82e0b565-f6a1-4197-933c-a59f0678bf8b"
      },
      "source": [
        "df.head()"
      ],
      "execution_count": 42,
      "outputs": [
        {
          "output_type": "execute_result",
          "data": {
            "text/html": [
              "<div>\n",
              "<style scoped>\n",
              "    .dataframe tbody tr th:only-of-type {\n",
              "        vertical-align: middle;\n",
              "    }\n",
              "\n",
              "    .dataframe tbody tr th {\n",
              "        vertical-align: top;\n",
              "    }\n",
              "\n",
              "    .dataframe thead th {\n",
              "        text-align: right;\n",
              "    }\n",
              "</style>\n",
              "<table border=\"1\" class=\"dataframe\">\n",
              "  <thead>\n",
              "    <tr style=\"text-align: right;\">\n",
              "      <th></th>\n",
              "      <th>id</th>\n",
              "      <th>demand</th>\n",
              "      <th>frequency</th>\n",
              "      <th>coal</th>\n",
              "      <th>nuclear</th>\n",
              "      <th>ccgt</th>\n",
              "      <th>wind</th>\n",
              "      <th>pumped</th>\n",
              "      <th>hydro</th>\n",
              "      <th>biomass</th>\n",
              "      <th>solar</th>\n",
              "    </tr>\n",
              "    <tr>\n",
              "      <th>timestamp</th>\n",
              "      <th></th>\n",
              "      <th></th>\n",
              "      <th></th>\n",
              "      <th></th>\n",
              "      <th></th>\n",
              "      <th></th>\n",
              "      <th></th>\n",
              "      <th></th>\n",
              "      <th></th>\n",
              "      <th></th>\n",
              "      <th></th>\n",
              "    </tr>\n",
              "  </thead>\n",
              "  <tbody>\n",
              "    <tr>\n",
              "      <th>2012-01-01 00:00:01</th>\n",
              "      <td>62694</td>\n",
              "      <td>30590</td>\n",
              "      <td>50.126999</td>\n",
              "      <td>8693</td>\n",
              "      <td>7121</td>\n",
              "      <td>8568</td>\n",
              "      <td>2740</td>\n",
              "      <td>0</td>\n",
              "      <td>728</td>\n",
              "      <td>0</td>\n",
              "      <td>0.0</td>\n",
              "    </tr>\n",
              "    <tr>\n",
              "      <th>2012-01-01 00:05:06</th>\n",
              "      <td>62695</td>\n",
              "      <td>30490</td>\n",
              "      <td>50.039001</td>\n",
              "      <td>8650</td>\n",
              "      <td>7120</td>\n",
              "      <td>8441</td>\n",
              "      <td>2812</td>\n",
              "      <td>0</td>\n",
              "      <td>732</td>\n",
              "      <td>0</td>\n",
              "      <td>0.0</td>\n",
              "    </tr>\n",
              "    <tr>\n",
              "      <th>2012-01-01 00:10:01</th>\n",
              "      <td>62696</td>\n",
              "      <td>30802</td>\n",
              "      <td>50.000000</td>\n",
              "      <td>8880</td>\n",
              "      <td>7125</td>\n",
              "      <td>8427</td>\n",
              "      <td>2896</td>\n",
              "      <td>0</td>\n",
              "      <td>744</td>\n",
              "      <td>0</td>\n",
              "      <td>0.0</td>\n",
              "    </tr>\n",
              "    <tr>\n",
              "      <th>2012-01-01 00:15:01</th>\n",
              "      <td>62697</td>\n",
              "      <td>31180</td>\n",
              "      <td>50.028999</td>\n",
              "      <td>9111</td>\n",
              "      <td>7122</td>\n",
              "      <td>8494</td>\n",
              "      <td>2964</td>\n",
              "      <td>0</td>\n",
              "      <td>748</td>\n",
              "      <td>0</td>\n",
              "      <td>0.0</td>\n",
              "    </tr>\n",
              "    <tr>\n",
              "      <th>2012-01-01 00:20:01</th>\n",
              "      <td>62698</td>\n",
              "      <td>31241</td>\n",
              "      <td>50.002998</td>\n",
              "      <td>9195</td>\n",
              "      <td>7114</td>\n",
              "      <td>8449</td>\n",
              "      <td>2992</td>\n",
              "      <td>0</td>\n",
              "      <td>750</td>\n",
              "      <td>0</td>\n",
              "      <td>0.0</td>\n",
              "    </tr>\n",
              "  </tbody>\n",
              "</table>\n",
              "</div>"
            ],
            "text/plain": [
              "                        id   demand   frequency  ...   hydro   biomass   solar\n",
              " timestamp                                       ...                          \n",
              "2012-01-01 00:00:01  62694    30590   50.126999  ...     728         0     0.0\n",
              "2012-01-01 00:05:06  62695    30490   50.039001  ...     732         0     0.0\n",
              "2012-01-01 00:10:01  62696    30802   50.000000  ...     744         0     0.0\n",
              "2012-01-01 00:15:01  62697    31180   50.028999  ...     748         0     0.0\n",
              "2012-01-01 00:20:01  62698    31241   50.002998  ...     750         0     0.0\n",
              "\n",
              "[5 rows x 11 columns]"
            ]
          },
          "metadata": {
            "tags": []
          },
          "execution_count": 42
        }
      ]
    },
    {
      "cell_type": "code",
      "metadata": {
        "id": "l9b4UMY1JOh2"
      },
      "source": [
        "# drop unnecessary column\r\n",
        "df.drop(columns=['id'],inplace=True)"
      ],
      "execution_count": 43,
      "outputs": []
    },
    {
      "cell_type": "code",
      "metadata": {
        "colab": {
          "base_uri": "https://localhost:8080/"
        },
        "id": "Cyr4zQs-hUKG",
        "outputId": "12812145-8f52-40bb-d178-ff9708190efd"
      },
      "source": [
        "df.info()"
      ],
      "execution_count": 44,
      "outputs": [
        {
          "output_type": "stream",
          "text": [
            "<class 'pandas.core.frame.DataFrame'>\n",
            "DatetimeIndex: 796453 entries, 2012-01-01 00:00:01 to 2019-08-03 20:10:34\n",
            "Data columns (total 10 columns):\n",
            " #   Column      Non-Null Count   Dtype  \n",
            "---  ------      --------------   -----  \n",
            " 0    demand     796453 non-null  int64  \n",
            " 1    frequency  796453 non-null  float64\n",
            " 2    coal       796453 non-null  int64  \n",
            " 3    nuclear    796453 non-null  int64  \n",
            " 4    ccgt       796453 non-null  int64  \n",
            " 5    wind       796453 non-null  int64  \n",
            " 6    pumped     796453 non-null  int64  \n",
            " 7    hydro      796453 non-null  int64  \n",
            " 8    biomass    796453 non-null  int64  \n",
            " 9    solar      796453 non-null  float64\n",
            "dtypes: float64(2), int64(8)\n",
            "memory usage: 66.8 MB\n"
          ],
          "name": "stdout"
        }
      ]
    },
    {
      "cell_type": "markdown",
      "metadata": {
        "id": "-L-2toM-H5nK"
      },
      "source": [
        "We are having 796453 records in our data"
      ]
    },
    {
      "cell_type": "code",
      "metadata": {
        "colab": {
          "base_uri": "https://localhost:8080/",
          "height": 284
        },
        "id": "NXRhUZUTAbtH",
        "outputId": "0b720627-968b-422b-9e1d-9517dea96a47"
      },
      "source": [
        "df.describe()"
      ],
      "execution_count": 45,
      "outputs": [
        {
          "output_type": "execute_result",
          "data": {
            "text/html": [
              "<div>\n",
              "<style scoped>\n",
              "    .dataframe tbody tr th:only-of-type {\n",
              "        vertical-align: middle;\n",
              "    }\n",
              "\n",
              "    .dataframe tbody tr th {\n",
              "        vertical-align: top;\n",
              "    }\n",
              "\n",
              "    .dataframe thead th {\n",
              "        text-align: right;\n",
              "    }\n",
              "</style>\n",
              "<table border=\"1\" class=\"dataframe\">\n",
              "  <thead>\n",
              "    <tr style=\"text-align: right;\">\n",
              "      <th></th>\n",
              "      <th>demand</th>\n",
              "      <th>frequency</th>\n",
              "      <th>coal</th>\n",
              "      <th>nuclear</th>\n",
              "      <th>ccgt</th>\n",
              "      <th>wind</th>\n",
              "      <th>pumped</th>\n",
              "      <th>hydro</th>\n",
              "      <th>biomass</th>\n",
              "      <th>solar</th>\n",
              "    </tr>\n",
              "  </thead>\n",
              "  <tbody>\n",
              "    <tr>\n",
              "      <th>count</th>\n",
              "      <td>796453.000000</td>\n",
              "      <td>796453.000000</td>\n",
              "      <td>796453.000000</td>\n",
              "      <td>796453.000000</td>\n",
              "      <td>796453.000000</td>\n",
              "      <td>796453.000000</td>\n",
              "      <td>796453.000000</td>\n",
              "      <td>796453.000000</td>\n",
              "      <td>796453.000000</td>\n",
              "      <td>7.964530e+05</td>\n",
              "    </tr>\n",
              "    <tr>\n",
              "      <th>mean</th>\n",
              "      <td>33441.390026</td>\n",
              "      <td>49.949458</td>\n",
              "      <td>7533.566650</td>\n",
              "      <td>7214.377451</td>\n",
              "      <td>11540.665320</td>\n",
              "      <td>2905.132293</td>\n",
              "      <td>303.329773</td>\n",
              "      <td>400.898907</td>\n",
              "      <td>1186.621983</td>\n",
              "      <td>4.413354e+02</td>\n",
              "    </tr>\n",
              "    <tr>\n",
              "      <th>std</th>\n",
              "      <td>7238.845210</td>\n",
              "      <td>1.609492</td>\n",
              "      <td>6410.003369</td>\n",
              "      <td>934.940076</td>\n",
              "      <td>5166.125208</td>\n",
              "      <td>2233.491732</td>\n",
              "      <td>328.883426</td>\n",
              "      <td>255.525493</td>\n",
              "      <td>745.151475</td>\n",
              "      <td>2.587864e+03</td>\n",
              "    </tr>\n",
              "    <tr>\n",
              "      <th>min</th>\n",
              "      <td>0.000000</td>\n",
              "      <td>0.000000</td>\n",
              "      <td>0.000000</td>\n",
              "      <td>0.000000</td>\n",
              "      <td>0.000000</td>\n",
              "      <td>0.000000</td>\n",
              "      <td>0.000000</td>\n",
              "      <td>0.000000</td>\n",
              "      <td>0.000000</td>\n",
              "      <td>0.000000e+00</td>\n",
              "    </tr>\n",
              "    <tr>\n",
              "      <th>25%</th>\n",
              "      <td>27874.000000</td>\n",
              "      <td>49.959999</td>\n",
              "      <td>1226.000000</td>\n",
              "      <td>6684.000000</td>\n",
              "      <td>7361.000000</td>\n",
              "      <td>1142.000000</td>\n",
              "      <td>0.000000</td>\n",
              "      <td>189.000000</td>\n",
              "      <td>679.000000</td>\n",
              "      <td>0.000000e+00</td>\n",
              "    </tr>\n",
              "    <tr>\n",
              "      <th>50%</th>\n",
              "      <td>32737.000000</td>\n",
              "      <td>49.997002</td>\n",
              "      <td>6420.000000</td>\n",
              "      <td>7337.000000</td>\n",
              "      <td>11352.000000</td>\n",
              "      <td>2353.000000</td>\n",
              "      <td>290.000000</td>\n",
              "      <td>362.000000</td>\n",
              "      <td>1116.000000</td>\n",
              "      <td>0.000000e+00</td>\n",
              "    </tr>\n",
              "    <tr>\n",
              "      <th>75%</th>\n",
              "      <td>38495.000000</td>\n",
              "      <td>50.042000</td>\n",
              "      <td>13070.000000</td>\n",
              "      <td>7888.000000</td>\n",
              "      <td>15167.000000</td>\n",
              "      <td>4162.000000</td>\n",
              "      <td>437.000000</td>\n",
              "      <td>575.000000</td>\n",
              "      <td>1918.000000</td>\n",
              "      <td>0.000000e+00</td>\n",
              "    </tr>\n",
              "    <tr>\n",
              "      <th>max</th>\n",
              "      <td>254852.000000</td>\n",
              "      <td>50.403000</td>\n",
              "      <td>25239.000000</td>\n",
              "      <td>9346.000000</td>\n",
              "      <td>27150.000000</td>\n",
              "      <td>12456.000000</td>\n",
              "      <td>2861.000000</td>\n",
              "      <td>1434.000000</td>\n",
              "      <td>3093.000000</td>\n",
              "      <td>1.420000e+06</td>\n",
              "    </tr>\n",
              "  </tbody>\n",
              "</table>\n",
              "</div>"
            ],
            "text/plain": [
              "              demand      frequency  ...        biomass         solar\n",
              "count  796453.000000  796453.000000  ...  796453.000000  7.964530e+05\n",
              "mean    33441.390026      49.949458  ...    1186.621983  4.413354e+02\n",
              "std      7238.845210       1.609492  ...     745.151475  2.587864e+03\n",
              "min         0.000000       0.000000  ...       0.000000  0.000000e+00\n",
              "25%     27874.000000      49.959999  ...     679.000000  0.000000e+00\n",
              "50%     32737.000000      49.997002  ...    1116.000000  0.000000e+00\n",
              "75%     38495.000000      50.042000  ...    1918.000000  0.000000e+00\n",
              "max    254852.000000      50.403000  ...    3093.000000  1.420000e+06\n",
              "\n",
              "[8 rows x 10 columns]"
            ]
          },
          "metadata": {
            "tags": []
          },
          "execution_count": 45
        }
      ]
    },
    {
      "cell_type": "markdown",
      "metadata": {
        "id": "37LpTn9FA6GR"
      },
      "source": [
        "From above data we can say that coal and CCGT is contributing maximum in the Energy generation"
      ]
    },
    {
      "cell_type": "code",
      "metadata": {
        "id": "d6mrelIIDjtv"
      },
      "source": [
        "# remove space from column name\r\n",
        "df.columns = [item.strip() for item in list(df.columns)]"
      ],
      "execution_count": 46,
      "outputs": []
    },
    {
      "cell_type": "code",
      "metadata": {
        "colab": {
          "base_uri": "https://localhost:8080/"
        },
        "id": "QyNyP2O6Alsd",
        "outputId": "f9c3c0ce-3ec5-4d64-faa1-c3819487b617"
      },
      "source": [
        "df['energy_produced'] = df[['coal', 'nuclear', 'ccgt', 'wind', 'pumped', 'hydro', 'biomass', 'solar']].sum(axis=1)\r\n",
        "df['energy_produced'].head(10)"
      ],
      "execution_count": 47,
      "outputs": [
        {
          "output_type": "execute_result",
          "data": {
            "text/plain": [
              " timestamp\n",
              "2012-01-01 00:00:01    27850.0\n",
              "2012-01-01 00:05:06    27755.0\n",
              "2012-01-01 00:10:01    28072.0\n",
              "2012-01-01 00:15:01    28439.0\n",
              "2012-01-01 00:20:01    28500.0\n",
              "2012-01-01 00:25:10    28600.0\n",
              "2012-01-01 00:30:01    28515.0\n",
              "2012-01-01 00:35:05    28314.0\n",
              "2012-01-01 00:40:14    28424.0\n",
              "2012-01-01 00:45:01    28491.0\n",
              "Name: energy_produced, dtype: float64"
            ]
          },
          "metadata": {
            "tags": []
          },
          "execution_count": 47
        }
      ]
    },
    {
      "cell_type": "code",
      "metadata": {
        "colab": {
          "base_uri": "https://localhost:8080/"
        },
        "id": "uhFE7mMqDOmk",
        "outputId": "5febaafd-56f9-465b-a655-ee0c0884ed9a"
      },
      "source": [
        "df['demand'].head(10)"
      ],
      "execution_count": 50,
      "outputs": [
        {
          "output_type": "execute_result",
          "data": {
            "text/plain": [
              " timestamp\n",
              "2012-01-01 00:00:01    30590\n",
              "2012-01-01 00:05:06    30490\n",
              "2012-01-01 00:10:01    30802\n",
              "2012-01-01 00:15:01    31180\n",
              "2012-01-01 00:20:01    31241\n",
              "2012-01-01 00:25:10    31340\n",
              "2012-01-01 00:30:01    31255\n",
              "2012-01-01 00:35:05    31054\n",
              "2012-01-01 00:40:14    31166\n",
              "2012-01-01 00:45:01    31232\n",
              "Name: demand, dtype: int64"
            ]
          },
          "metadata": {
            "tags": []
          },
          "execution_count": 50
        }
      ]
    },
    {
      "cell_type": "code",
      "metadata": {
        "colab": {
          "base_uri": "https://localhost:8080/",
          "height": 343
        },
        "id": "yRUI9qL-D9ES",
        "outputId": "d1eca3ea-ebfa-453c-b281-77f827abdfb4"
      },
      "source": [
        "df[['demand', 'energy_produced','coal', 'nuclear', 'ccgt', 'wind', 'pumped', 'hydro', 'biomass', 'solar']].corr()"
      ],
      "execution_count": 51,
      "outputs": [
        {
          "output_type": "execute_result",
          "data": {
            "text/html": [
              "<div>\n",
              "<style scoped>\n",
              "    .dataframe tbody tr th:only-of-type {\n",
              "        vertical-align: middle;\n",
              "    }\n",
              "\n",
              "    .dataframe tbody tr th {\n",
              "        vertical-align: top;\n",
              "    }\n",
              "\n",
              "    .dataframe thead th {\n",
              "        text-align: right;\n",
              "    }\n",
              "</style>\n",
              "<table border=\"1\" class=\"dataframe\">\n",
              "  <thead>\n",
              "    <tr style=\"text-align: right;\">\n",
              "      <th></th>\n",
              "      <th>demand</th>\n",
              "      <th>energy_produced</th>\n",
              "      <th>coal</th>\n",
              "      <th>nuclear</th>\n",
              "      <th>ccgt</th>\n",
              "      <th>wind</th>\n",
              "      <th>pumped</th>\n",
              "      <th>hydro</th>\n",
              "      <th>biomass</th>\n",
              "      <th>solar</th>\n",
              "    </tr>\n",
              "  </thead>\n",
              "  <tbody>\n",
              "    <tr>\n",
              "      <th>demand</th>\n",
              "      <td>1.000000</td>\n",
              "      <td>0.927885</td>\n",
              "      <td>0.605359</td>\n",
              "      <td>0.116944</td>\n",
              "      <td>0.592903</td>\n",
              "      <td>-0.006657</td>\n",
              "      <td>0.608702</td>\n",
              "      <td>0.508998</td>\n",
              "      <td>-0.112955</td>\n",
              "      <td>-0.053173</td>\n",
              "    </tr>\n",
              "    <tr>\n",
              "      <th>energy_produced</th>\n",
              "      <td>0.927885</td>\n",
              "      <td>1.000000</td>\n",
              "      <td>0.552917</td>\n",
              "      <td>0.112190</td>\n",
              "      <td>0.594134</td>\n",
              "      <td>0.005152</td>\n",
              "      <td>0.570889</td>\n",
              "      <td>0.457708</td>\n",
              "      <td>-0.083840</td>\n",
              "      <td>0.281898</td>\n",
              "    </tr>\n",
              "    <tr>\n",
              "      <th>coal</th>\n",
              "      <td>0.605359</td>\n",
              "      <td>0.552917</td>\n",
              "      <td>1.000000</td>\n",
              "      <td>0.175369</td>\n",
              "      <td>-0.162401</td>\n",
              "      <td>-0.306513</td>\n",
              "      <td>0.218759</td>\n",
              "      <td>0.207870</td>\n",
              "      <td>-0.649068</td>\n",
              "      <td>-0.167465</td>\n",
              "    </tr>\n",
              "    <tr>\n",
              "      <th>nuclear</th>\n",
              "      <td>0.116944</td>\n",
              "      <td>0.112190</td>\n",
              "      <td>0.175369</td>\n",
              "      <td>1.000000</td>\n",
              "      <td>-0.096811</td>\n",
              "      <td>-0.179884</td>\n",
              "      <td>0.059662</td>\n",
              "      <td>0.017442</td>\n",
              "      <td>-0.218199</td>\n",
              "      <td>-0.059732</td>\n",
              "    </tr>\n",
              "    <tr>\n",
              "      <th>ccgt</th>\n",
              "      <td>0.592903</td>\n",
              "      <td>0.594134</td>\n",
              "      <td>-0.162401</td>\n",
              "      <td>-0.096811</td>\n",
              "      <td>1.000000</td>\n",
              "      <td>-0.092967</td>\n",
              "      <td>0.500891</td>\n",
              "      <td>0.237871</td>\n",
              "      <td>0.369254</td>\n",
              "      <td>0.095912</td>\n",
              "    </tr>\n",
              "    <tr>\n",
              "      <th>wind</th>\n",
              "      <td>-0.006657</td>\n",
              "      <td>0.005152</td>\n",
              "      <td>-0.306513</td>\n",
              "      <td>-0.179884</td>\n",
              "      <td>-0.092967</td>\n",
              "      <td>1.000000</td>\n",
              "      <td>-0.033267</td>\n",
              "      <td>0.256919</td>\n",
              "      <td>0.300231</td>\n",
              "      <td>0.054473</td>\n",
              "    </tr>\n",
              "    <tr>\n",
              "      <th>pumped</th>\n",
              "      <td>0.608702</td>\n",
              "      <td>0.570889</td>\n",
              "      <td>0.218759</td>\n",
              "      <td>0.059662</td>\n",
              "      <td>0.500891</td>\n",
              "      <td>-0.033267</td>\n",
              "      <td>1.000000</td>\n",
              "      <td>0.441208</td>\n",
              "      <td>-0.012562</td>\n",
              "      <td>-0.002637</td>\n",
              "    </tr>\n",
              "    <tr>\n",
              "      <th>hydro</th>\n",
              "      <td>0.508998</td>\n",
              "      <td>0.457708</td>\n",
              "      <td>0.207870</td>\n",
              "      <td>0.017442</td>\n",
              "      <td>0.237871</td>\n",
              "      <td>0.256919</td>\n",
              "      <td>0.441208</td>\n",
              "      <td>1.000000</td>\n",
              "      <td>0.109851</td>\n",
              "      <td>-0.042044</td>\n",
              "    </tr>\n",
              "    <tr>\n",
              "      <th>biomass</th>\n",
              "      <td>-0.112955</td>\n",
              "      <td>-0.083840</td>\n",
              "      <td>-0.649068</td>\n",
              "      <td>-0.218199</td>\n",
              "      <td>0.369254</td>\n",
              "      <td>0.300231</td>\n",
              "      <td>-0.012562</td>\n",
              "      <td>0.109851</td>\n",
              "      <td>1.000000</td>\n",
              "      <td>0.143576</td>\n",
              "    </tr>\n",
              "    <tr>\n",
              "      <th>solar</th>\n",
              "      <td>-0.053173</td>\n",
              "      <td>0.281898</td>\n",
              "      <td>-0.167465</td>\n",
              "      <td>-0.059732</td>\n",
              "      <td>0.095912</td>\n",
              "      <td>0.054473</td>\n",
              "      <td>-0.002637</td>\n",
              "      <td>-0.042044</td>\n",
              "      <td>0.143576</td>\n",
              "      <td>1.000000</td>\n",
              "    </tr>\n",
              "  </tbody>\n",
              "</table>\n",
              "</div>"
            ],
            "text/plain": [
              "                   demand  energy_produced  ...   biomass     solar\n",
              "demand           1.000000         0.927885  ... -0.112955 -0.053173\n",
              "energy_produced  0.927885         1.000000  ... -0.083840  0.281898\n",
              "coal             0.605359         0.552917  ... -0.649068 -0.167465\n",
              "nuclear          0.116944         0.112190  ... -0.218199 -0.059732\n",
              "ccgt             0.592903         0.594134  ...  0.369254  0.095912\n",
              "wind            -0.006657         0.005152  ...  0.300231  0.054473\n",
              "pumped           0.608702         0.570889  ... -0.012562 -0.002637\n",
              "hydro            0.508998         0.457708  ...  0.109851 -0.042044\n",
              "biomass         -0.112955        -0.083840  ...  1.000000  0.143576\n",
              "solar           -0.053173         0.281898  ...  0.143576  1.000000\n",
              "\n",
              "[10 rows x 10 columns]"
            ]
          },
          "metadata": {
            "tags": []
          },
          "execution_count": 51
        }
      ]
    },
    {
      "cell_type": "markdown",
      "metadata": {
        "id": "M6EWF56bE9oF"
      },
      "source": [
        "## Observations:\r\n",
        "From above analysis of correlation between columns we can say that,\r\n",
        "* The Demand and total Produced Energy are highly correlated \r\n",
        "* Smiliarly there is 0.6 correlation between Demand and Coal Production \r\n",
        "\r\n",
        "## 1. Resampling:"
      ]
    },
    {
      "cell_type": "code",
      "metadata": {
        "colab": {
          "base_uri": "https://localhost:8080/",
          "height": 225
        },
        "id": "KiEszqmfE8a_",
        "outputId": "368501f9-2729-40aa-c1f8-b24600c073a6"
      },
      "source": [
        "data = df.resample('24H').sum()\r\n",
        "data.head()"
      ],
      "execution_count": 64,
      "outputs": [
        {
          "output_type": "execute_result",
          "data": {
            "text/html": [
              "<div>\n",
              "<style scoped>\n",
              "    .dataframe tbody tr th:only-of-type {\n",
              "        vertical-align: middle;\n",
              "    }\n",
              "\n",
              "    .dataframe tbody tr th {\n",
              "        vertical-align: top;\n",
              "    }\n",
              "\n",
              "    .dataframe thead th {\n",
              "        text-align: right;\n",
              "    }\n",
              "</style>\n",
              "<table border=\"1\" class=\"dataframe\">\n",
              "  <thead>\n",
              "    <tr style=\"text-align: right;\">\n",
              "      <th></th>\n",
              "      <th>demand</th>\n",
              "      <th>frequency</th>\n",
              "      <th>coal</th>\n",
              "      <th>nuclear</th>\n",
              "      <th>ccgt</th>\n",
              "      <th>wind</th>\n",
              "      <th>pumped</th>\n",
              "      <th>hydro</th>\n",
              "      <th>biomass</th>\n",
              "      <th>solar</th>\n",
              "      <th>energy_produced</th>\n",
              "    </tr>\n",
              "    <tr>\n",
              "      <th>timestamp</th>\n",
              "      <th></th>\n",
              "      <th></th>\n",
              "      <th></th>\n",
              "      <th></th>\n",
              "      <th></th>\n",
              "      <th></th>\n",
              "      <th></th>\n",
              "      <th></th>\n",
              "      <th></th>\n",
              "      <th></th>\n",
              "      <th></th>\n",
              "    </tr>\n",
              "  </thead>\n",
              "  <tbody>\n",
              "    <tr>\n",
              "      <th>2012-01-01</th>\n",
              "      <td>9191420</td>\n",
              "      <td>14397.289032</td>\n",
              "      <td>2448325</td>\n",
              "      <td>2029537</td>\n",
              "      <td>2828815</td>\n",
              "      <td>760388</td>\n",
              "      <td>113503</td>\n",
              "      <td>226484</td>\n",
              "      <td>0</td>\n",
              "      <td>0.0</td>\n",
              "      <td>8407052.0</td>\n",
              "    </tr>\n",
              "    <tr>\n",
              "      <th>2012-01-02</th>\n",
              "      <td>9952561</td>\n",
              "      <td>14349.449039</td>\n",
              "      <td>2928449</td>\n",
              "      <td>2030808</td>\n",
              "      <td>3220715</td>\n",
              "      <td>792769</td>\n",
              "      <td>93759</td>\n",
              "      <td>223223</td>\n",
              "      <td>0</td>\n",
              "      <td>0.0</td>\n",
              "      <td>9289723.0</td>\n",
              "    </tr>\n",
              "    <tr>\n",
              "      <th>2012-01-03</th>\n",
              "      <td>11585345</td>\n",
              "      <td>14402.295026</td>\n",
              "      <td>4430877</td>\n",
              "      <td>2005847</td>\n",
              "      <td>3508946</td>\n",
              "      <td>621916</td>\n",
              "      <td>93623</td>\n",
              "      <td>231623</td>\n",
              "      <td>0</td>\n",
              "      <td>0.0</td>\n",
              "      <td>10892832.0</td>\n",
              "    </tr>\n",
              "    <tr>\n",
              "      <th>2012-01-04</th>\n",
              "      <td>12024761</td>\n",
              "      <td>14395.409984</td>\n",
              "      <td>4903744</td>\n",
              "      <td>2039013</td>\n",
              "      <td>3290624</td>\n",
              "      <td>764407</td>\n",
              "      <td>106766</td>\n",
              "      <td>232221</td>\n",
              "      <td>0</td>\n",
              "      <td>0.0</td>\n",
              "      <td>11336775.0</td>\n",
              "    </tr>\n",
              "    <tr>\n",
              "      <th>2012-01-05</th>\n",
              "      <td>11914665</td>\n",
              "      <td>14402.044029</td>\n",
              "      <td>4765032</td>\n",
              "      <td>2171748</td>\n",
              "      <td>3134850</td>\n",
              "      <td>760181</td>\n",
              "      <td>108141</td>\n",
              "      <td>238301</td>\n",
              "      <td>0</td>\n",
              "      <td>0.0</td>\n",
              "      <td>11178253.0</td>\n",
              "    </tr>\n",
              "  </tbody>\n",
              "</table>\n",
              "</div>"
            ],
            "text/plain": [
              "              demand     frequency     coal  ...  biomass  solar  energy_produced\n",
              " timestamp                                   ...                                 \n",
              "2012-01-01   9191420  14397.289032  2448325  ...        0    0.0        8407052.0\n",
              "2012-01-02   9952561  14349.449039  2928449  ...        0    0.0        9289723.0\n",
              "2012-01-03  11585345  14402.295026  4430877  ...        0    0.0       10892832.0\n",
              "2012-01-04  12024761  14395.409984  4903744  ...        0    0.0       11336775.0\n",
              "2012-01-05  11914665  14402.044029  4765032  ...        0    0.0       11178253.0\n",
              "\n",
              "[5 rows x 11 columns]"
            ]
          },
          "metadata": {
            "tags": []
          },
          "execution_count": 64
        }
      ]
    },
    {
      "cell_type": "code",
      "metadata": {
        "colab": {
          "base_uri": "https://localhost:8080/"
        },
        "id": "I3DBVhhaLgtC",
        "outputId": "2e6dcb5a-8e46-4070-9f09-356760fdb6bf"
      },
      "source": [
        "data.info()"
      ],
      "execution_count": 65,
      "outputs": [
        {
          "output_type": "stream",
          "text": [
            "<class 'pandas.core.frame.DataFrame'>\n",
            "DatetimeIndex: 2772 entries, 2012-01-01 to 2019-08-03\n",
            "Freq: 24H\n",
            "Data columns (total 11 columns):\n",
            " #   Column           Non-Null Count  Dtype  \n",
            "---  ------           --------------  -----  \n",
            " 0   demand           2772 non-null   int64  \n",
            " 1   frequency        2772 non-null   float64\n",
            " 2   coal             2772 non-null   int64  \n",
            " 3   nuclear          2772 non-null   int64  \n",
            " 4   ccgt             2772 non-null   int64  \n",
            " 5   wind             2772 non-null   int64  \n",
            " 6   pumped           2772 non-null   int64  \n",
            " 7   hydro            2772 non-null   int64  \n",
            " 8   biomass          2772 non-null   int64  \n",
            " 9   solar            2772 non-null   float64\n",
            " 10  energy_produced  2772 non-null   float64\n",
            "dtypes: float64(3), int64(8)\n",
            "memory usage: 259.9 KB\n"
          ],
          "name": "stdout"
        }
      ]
    },
    {
      "cell_type": "markdown",
      "metadata": {
        "id": "FOtIGAfPLAub"
      },
      "source": [
        "## 2. Analysis"
      ]
    },
    {
      "cell_type": "code",
      "metadata": {
        "colab": {
          "base_uri": "https://localhost:8080/",
          "height": 307
        },
        "id": "EJa4cTj2KZsB",
        "outputId": "c62db6f9-6e3c-4fb1-c52a-52bc6eceab29"
      },
      "source": [
        "data.rolling(10).mean().plot()"
      ],
      "execution_count": 60,
      "outputs": [
        {
          "output_type": "execute_result",
          "data": {
            "text/plain": [
              "<matplotlib.axes._subplots.AxesSubplot at 0x7fec43fbe9b0>"
            ]
          },
          "metadata": {
            "tags": []
          },
          "execution_count": 60
        },
        {
          "output_type": "display_data",
          "data": {
            "image/png": "[encoded data removed]",
            "text/plain": [
              "<Figure size 432x288 with 1 Axes>"
            ]
          },
          "metadata": {
            "tags": [],
            "needs_background": "light"
          }
        }
      ]
    },
    {
      "cell_type": "code",
      "metadata": {
        "id": "7zXBCWIULKv5"
      },
      "source": [
        ""
      ],
      "execution_count": null,
      "outputs": []
    }
  ]
}